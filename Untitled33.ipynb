{
  "nbformat": 4,
  "nbformat_minor": 0,
  "metadata": {
    "colab": {
      "name": "Untitled33.ipynb",
      "provenance": [],
      "authorship_tag": "ABX9TyPVJ3+rH2fdfCSxPyZBoUYH",
      "include_colab_link": true
    },
    "kernelspec": {
      "name": "python3",
      "display_name": "Python 3"
    },
    "language_info": {
      "name": "python"
    }
  },
  "cells": [
    {
      "cell_type": "markdown",
      "metadata": {
        "id": "view-in-github",
        "colab_type": "text"
      },
      "source": [
        "<a href=\"https://colab.research.google.com/github/zookeeper464/data-analysis/blob/main/Untitled33.ipynb\" target=\"_parent\"><img src=\"https://colab.research.google.com/assets/colab-badge.svg\" alt=\"Open In Colab\"/></a>"
      ]
    },
    {
      "cell_type": "code",
      "metadata": {
        "id": "6ymM1rxjfv9h"
      },
      "source": [
        "import pandas as pd"
      ],
      "execution_count": 1,
      "outputs": []
    },
    {
      "cell_type": "code",
      "metadata": {
        "id": "aipXcdGQf478"
      },
      "source": [
        "df1 = pd.read_csv('/content/ECOS_TABLE_20210623_115801.csv',encoding='CP949').iloc[:,1:].drop(columns = [\"변환\",\"단위\"])\n",
        "df2 = pd.read_csv('/content/ECOS_TABLE_20210623_115809.csv',encoding='CP949').iloc[:,1:].drop(columns = [\"변환\",\"단위\"])\n",
        "df3 = pd.read_csv('/content/ECOS_TABLE_20210623_115822.csv',encoding='CP949').iloc[:1,1:].drop(columns = [\"변환\",\"단위\"])\n",
        "\n",
        "df1 = pd.melt(df1,['항목명1', '항목명2'], var_name=\"date\", value_name=\"value1\")\n",
        "df2 = pd.melt(df2,['항목명1', '항목명2'], var_name=\"date\", value_name=\"value2\")\n",
        "df3 = pd.melt(df3,'항목명1', var_name=\"date\", value_name=\"value3\").drop(columns = \"항목명1\")\n",
        "\n",
        "df1.dropna(subset=[\"value1\"], inplace=True)# 주택 종류별 매매 데이터(지역별 2017년 11월 기준 가격비교)(목표 타겟)\n",
        "df2.dropna(subset=[\"value2\"], inplace=True)# 주택 종류별 전세 데이터(지역별 2017년 11월 기준 가격비교)\n",
        "df3.dropna(subset=[\"value4\"], inplace=True)# 기준 금리"
      ],
      "execution_count": 138,
      "outputs": []
    },
    {
      "cell_type": "code",
      "metadata": {
        "id": "6J09-8BFzIeu"
      },
      "source": [
        "merge_df1 = pd.merge(df1,df2, how='outer',on=[\"항목명1\",\"항목명2\",'date'])\n",
        "merge_df2 = pd.merge(merge_df1,df3, how=\"outer\",on='date')\n",
        "merge_df2.columns = (\"종목\",\"지역\",\"날짜\",\"매매\",\"전세\",\"금리\")\n",
        "#이전 달 전세가,금리를 통해서 이번달 매매가를 추측하는 모델 생성이 필요하다.\n",
        "#좀만 다루면 해결 가능할듯하다."
      ],
      "execution_count": 151,
      "outputs": []
    },
    {
      "cell_type": "code",
      "metadata": {
        "colab": {
          "base_uri": "https://localhost:8080/"
        },
        "id": "pbLcOgLQ2A66",
        "outputId": "d08c3c08-d38a-475a-aea5-3f51a31f8942"
      },
      "source": [
        "merge_df2.shape"
      ],
      "execution_count": 154,
      "outputs": [
        {
          "output_type": "execute_result",
          "data": {
            "text/plain": [
              "(7128, 6)"
            ]
          },
          "metadata": {
            "tags": []
          },
          "execution_count": 154
        }
      ]
    }
  ]
}