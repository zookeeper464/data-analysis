{
  "nbformat": 4,
  "nbformat_minor": 0,
  "metadata": {
    "colab": {
      "name": "Untitled35.ipynb",
      "provenance": [],
      "authorship_tag": "ABX9TyObWJd+SylEk8mvEfY5zI/R",
      "include_colab_link": true
    },
    "kernelspec": {
      "name": "python3",
      "display_name": "Python 3"
    },
    "language_info": {
      "name": "python"
    }
  },
  "cells": [
    {
      "cell_type": "markdown",
      "metadata": {
        "id": "view-in-github",
        "colab_type": "text"
      },
      "source": [
        "<a href=\"https://colab.research.google.com/github/zookeeper464/data-analysis/blob/main/section2/project.ipynb\" target=\"_parent\"><img src=\"https://colab.research.google.com/assets/colab-badge.svg\" alt=\"Open In Colab\"/></a>"
      ]
    },
    {
      "cell_type": "markdown",
      "metadata": {
        "id": "2PCtFrYwaPsI"
      },
      "source": [
        "## **주제 부동산 시장에 대한 데이터 분석**\n",
        "**분석 내용 - 수도권 부동산 투자 가치 조사**\n",
        "1. 2012~2020까지의 데이터를 통해 2018의 테스트 데이터를 조사한다.(3456개)\n",
        "  2020 서울지역의 (아파트,연립,단독)을 조사한다.(O)\n",
        "2. 중위 가격비, 매매가격을 통해 실투자금에 대해 조사한다.(O)\n",
        "3. 2년동안의 중위 가격비와 주택 담보대출 금리를 비교하여 계산값을 도출한다.(O)\n",
        "4. 2년 동안 금리와 비교하여 3.의 column이 더 큰지 작은지 비교한다.(O)\n",
        "5. 이를 통해 타겟을 설정하고 타겟은 투자여부로 설정한다.(O)\n",
        "---\n",
        "**피쳐설정**\n",
        "1. 실거래지수를 통해 매매와 전세 사이의 관계 설정(O)\n",
        "2. 가계대출 대비 주택 대출의 비율의 수치 설정(O)\n",
        "3. 환율, 종합주가 지수, 주택 담보대출 금리, 정기 예금 금리(O)\n",
        "---\n",
        "**추가해야 하는 내용**\n",
        "\n",
        "선택한 모델에 대한 이유 설명\n",
        "1. 왜 해당 데이터를 선택했는지 자세히 설명한다.(O)\n",
        "2. 가설은 쓸모 있어야 한다.(O)\n",
        "3. 해당 특성을 target으로 지정한 이유를 설명하세요.(O)\n",
        "4. 해당 베이스라인 모델과 평가지표를 선택한 이유를 설명하세요.(O)\n",
        "5. 만들고자 하는 모델의 한계와 모델의 목표 설명하세요.(O)\n",
        "6. Data Leakage가 있었나요? 없었다면 어떻게 방지했나요?(O)\n",
        "7. 김하진님이 만들고자 하는 모델은 언제 유용한가요? 어떤 한계를 가지고 있나요?(O)\n",
        "\n",
        "모델 학습과 관련한 내용\n",
        "8. 다양한 모델을 학습하세요. (O)\n",
        "9. 평가지표를 계산 후 베이스라인과 비교해보세요.(O)\n",
        "10. 어느정도 성능이 나왔다면, 교차 검증 (이하 CV)을 통해서 일반화될 가능성이 있는지 확인해봅니다.(O)\n",
        "11. 최소 2개 이상의 모델을 만들어서 validation 점수를 보고하세요.(O)\n",
        "12. 최종 모델의 test 점수를 보고하세요.(O)\n",
        "\n",
        "모델 검증에 대한 내용\n",
        "13. 모델을 학습한 후에 베이스라인보다 잘 나왔나요? 그렇지 않다면 그 이유는 무엇일까요?(O)\n",
        "14. 모델 성능 개선을 위해 어떤 방법을 적용했나요? 그 방법을 선택한 이유는 무엇인가요?(O)\n",
        "15. 최종 모델에 관해 설명하세요.()\n",
        "\n",
        "발표에 대한 내용\n",
        "16. PDP, SHAP을 활용하여 최종 모델을 설명합니다.()\n",
        "17. 시각화는 \"설명\"이 제일 중요합니다.()\n",
        "18. 모델이 관측치를 예측하기 위해서 어떤 특성을 활용했나요?()\n",
        "19. 어떤 특성이 있다면 모델의 예측에 도움이 될까요? 해당 특성은 어떻게 구할 수 있을까요?()\n",
        "---\n",
        "**발표내용**\n",
        "\n",
        "지금까지 학습한 내용을 토대로 주택 투자에 대한 이익에 대해서 설명하고 앞으로 변화할 주택 시장에 대해서 발표한다.()"
      ]
    },
    {
      "cell_type": "markdown",
      "metadata": {
        "id": "7iodG4MrXQNQ"
      },
      "source": [
        "## 기존의 데이터를 가지고 온 뒤 새롭게 전처리 하는 과정을 거친다."
      ]
    },
    {
      "cell_type": "code",
      "metadata": {
        "id": "53sttMdx-pMS"
      },
      "source": [
        "import pandas as pd\n",
        "\n",
        "\n",
        "매매대비전세_단독 = pd.read_excel(\"/content/매매가격대비전세가격_중위가격_단독.xlsx\")\n",
        "매매대비전세_아파트 = pd.read_excel(\"/content/매매가격대비전세가격_중위가격_아파트.xlsx\")\n",
        "매매대비전세_연립다세대 = pd.read_excel(\"/content/매매가격대비전세가격_중위가격_연립다세대.xlsx\")\n",
        "매매대비전세_종합 = pd.read_excel(\"/content/매매가격대비전세가격_중위가격_종합.xlsx\")\n",
        "\n",
        "매매가격지수_단독 = pd.read_excel(\"/content/월간_매매가격지수_단독.xlsx\")\n",
        "매매가격지수_아파트 = pd.read_excel(\"/content/월간_매매가격지수_아파트.xlsx\")\n",
        "매매가격지수_연립다세대 = pd.read_excel(\"/content/월간_매매가격지수_연립다세대.xlsx\")\n",
        "매매가격지수_종합 = pd.read_excel(\"/content/월간_매매가격지수_종합.xlsx\")\n",
        "#매매가격지수는 변동율을 제거하는 전처리를 해야한다.\n",
        "\n",
        "정기예금금리 = pd.read_excel(\"/content/정기예금금리.xlsx\")\n",
        "종합주가지수 = pd.read_excel(\"/content/종합주가지수.xlsx\")\n",
        "주택담보대출금리 = pd.read_excel(\"/content/주택담보대출금리.xlsx\")\n",
        "주택대출 = pd.read_excel(\"/content/주택대출.xlsx\")\n",
        "가계대출 = pd.read_excel(\"/content/가계대출.xlsx\")\n",
        "환율 = pd.read_excel(\"/content/환율.xlsx\")"
      ],
      "execution_count": 3,
      "outputs": []
    },
    {
      "cell_type": "code",
      "metadata": {
        "id": "06j8zjjewDsU"
      },
      "source": [
        "def organized (df):\n",
        "  df_t = df.transpose()\n",
        "  return df_t[df_t[0] != \"변동률\"]\n",
        "\n",
        "매매가격지수_단독_t = organized(매매가격지수_단독).reset_index()\n",
        "매매가격지수_아파트_t = organized(매매가격지수_아파트).reset_index()\n",
        "매매가격지수_연립다세대_t = organized(매매가격지수_연립다세대).reset_index()\n",
        "매매가격지수_종합_t = organized(매매가격지수_종합).reset_index()\n",
        "# 매매가격지수에 들어가 있는 변동률 제거 및 트랜스포즈, reset_index\n",
        "\n",
        "매매가격지수_단독_t.columns=[\"년월\", \"val\",\"서울\",\t'강북지역',\t'도심권',\t'동북권',\t'서북권',\t'강남지역',\t'서남권',\t\"동남권\"]\n",
        "매매가격지수_단독_n = 매매가격지수_단독_t.drop(매매가격지수_단독_t.index[0]).drop(\"val\", axis=1)\n",
        "매매가격지수_아파트_t.columns=[\"년월\", \"val\",\"서울\",\t'강북지역',\t'도심권',\t'동북권',\t'서북권',\t'강남지역',\t'서남권',\t\"동남권\"]\n",
        "매매가격지수_아파트_n = 매매가격지수_아파트_t.drop(매매가격지수_아파트_t.index[0]).drop(\"val\", axis=1)\n",
        "매매가격지수_연립다세대_t.columns=[\"년월\", \"val\",\"서울\",\t'강북지역',\t'도심권',\t'동북권',\t'서북권',\t'강남지역',\t'서남권',\t\"동남권\"]\n",
        "매매가격지수_연립다세대_n = 매매가격지수_연립다세대_t.drop(매매가격지수_연립다세대_t.index[0]).drop(\"val\", axis=1)\n",
        "매매가격지수_종합_t.columns=[\"년월\", \"val\",\"서울\",\t'강북지역',\t'도심권',\t'동북권',\t'서북권',\t'강남지역',\t'서남권',\t\"동남권\"]\n",
        "매매가격지수_종합_n = 매매가격지수_종합_t.drop(매매가격지수_종합_t.index[0]).drop(\"val\", axis=1)\n",
        "#columns와 index를 사용하기 좋게 통일시켰다.\n",
        "\n",
        "매매가격지수_단독_tidy = pd.melt(매매가격지수_단독_n,[\"년월\"],var_name=\"지역\",value_name=\"매매가격지수\")\n",
        "매매가격지수_아파트_tidy = pd.melt(매매가격지수_아파트_n,[\"년월\"],var_name=\"지역\",value_name=\"매매가격지수\")\n",
        "매매가격지수_연립다세대_tidy = pd.melt(매매가격지수_연립다세대_n,[\"년월\"],var_name=\"지역\",value_name=\"매매가격지수\")\n",
        "매매가격지수_종합_tidy = pd.melt(매매가격지수_종합_n,[\"년월\"],var_name=\"지역\",value_name=\"매매가격지수\")\n",
        "\n",
        "매매가격지수_단독_tidy[\"종류\"] = \"단독\"\n",
        "매매가격지수_아파트_tidy[\"종류\"] = \"아파트\"\n",
        "매매가격지수_연립다세대_tidy[\"종류\"] = \"연립다세대\"\n",
        "매매가격지수_종합_tidy[\"종류\"] = \"종합\"\n",
        "#통일시킨 데이터를 가지고 tidy형태로 변형시켰다."
      ],
      "execution_count": 4,
      "outputs": []
    },
    {
      "cell_type": "code",
      "metadata": {
        "id": "RVZr-5rn3s_y"
      },
      "source": [
        "매매대비전세_단독_t =매매대비전세_단독.T.reset_index()\n",
        "매매대비전세_아파트_t = 매매대비전세_아파트.T.reset_index()\n",
        "매매대비전세_연립다세대_t = 매매대비전세_연립다세대.T.reset_index()\n",
        "매매대비전세_종합_t = 매매대비전세_종합.T.reset_index()\n",
        "\n",
        "정기예금금리_t = 정기예금금리.T.reset_index()\n",
        "종합주가지수_t = 종합주가지수.T.reset_index()\n",
        "주택담보대출금리_t = 주택담보대출금리.T.reset_index()\n",
        "주택대출_t = 주택대출.T.reset_index()\n",
        "가계대출_t = 가계대출.T.reset_index()\n",
        "환율_t = 환율.T.reset_index()\n",
        "#나머지 특성들에게 트랜스포즈 및 reset_index\n",
        "\n",
        "매매대비전세_단독_t.columns = [\"년월\",\"서울\",\t'강북지역',\t'도심권',\t'동북권',\t'서북권',\t'강남지역',\t'서남권',\t\"동남권\"]\n",
        "매매대비전세_아파트_t.columns = [\"년월\",\"서울\",\t'강북지역',\t'도심권',\t'동북권',\t'서북권',\t'강남지역',\t'서남권',\t\"동남권\"]\n",
        "매매대비전세_연립다세대_t.columns = [\"년월\",\"서울\",\t'강북지역',\t'도심권',\t'동북권',\t'서북권',\t'강남지역',\t'서남권',\t\"동남권\"]\n",
        "매매대비전세_종합_t.columns = [\"년월\",\"서울\",\t'강북지역',\t'도심권',\t'동북권',\t'서북권',\t'강남지역',\t'서남권',\t\"동남권\"]\n",
        "매매대비전세_단독_t = 매매대비전세_단독_t.drop(매매대비전세_단독_t.index[0])\n",
        "매매대비전세_아파트_t = 매매대비전세_아파트_t.drop(매매대비전세_아파트_t.index[0])\n",
        "매매대비전세_연립다세대_t = 매매대비전세_연립다세대_t.drop(매매대비전세_연립다세대_t.index[0])\n",
        "매매대비전세_종합_t = 매매대비전세_종합_t.drop(매매대비전세_종합_t.index[0])\n",
        "\n",
        "정기예금금리_t.columns = [\"년월\",\"정기예금금리\"]\n",
        "종합주가지수_t.columns = [\"년월\",\"종합주가지수\"]\n",
        "주택담보대출금리_t.columns = [\"년월\", \"주택담보대출금리\"]\n",
        "주택대출_t.columns = [\"년월\", \"주택대출\"]\n",
        "가계대출_t.columns = [\"년월\", '가계대출']\n",
        "환율_t.columns = [\"년월\", \"환율\"]\n",
        "정기예금금리_t = 정기예금금리_t.drop(정기예금금리_t.index[0])\n",
        "종합주가지수_t = 종합주가지수_t.drop(종합주가지수_t.index[0])\n",
        "주택담보대출금리_t = 주택담보대출금리_t.drop(주택담보대출금리_t.index[0])\n",
        "주택대출_t = 주택대출_t.drop(주택대출_t.index[0])\n",
        "가계대출_t = 가계대출_t.drop(가계대출_t.index[0])\n",
        "환율_t = 환율_t.drop(환율_t.index[0])\n",
        "#columns와 index를 사용하기 좋게 통일시켰다.\n",
        "\n",
        "매매대비전세_단독_tidy = pd.melt(매매대비전세_단독_t,[\"년월\"],var_name=\"지역\",value_name=\"매매대비전세\")\n",
        "매매대비전세_아파트_tidy = pd.melt(매매대비전세_아파트_t,[\"년월\"],var_name=\"지역\",value_name=\"매매대비전세\")\n",
        "매매대비전세_연립다세대_tidy = pd.melt(매매대비전세_연립다세대_t,[\"년월\"],var_name=\"지역\",value_name=\"매매대비전세\")\n",
        "매매대비전세_종합_tidy = pd.melt(매매대비전세_종합_t,[\"년월\"],var_name=\"지역\",value_name=\"매매대비전세\")\n",
        "매매대비전세_단독_tidy[\"종류\"] = \"단독\"\n",
        "매매대비전세_아파트_tidy[\"종류\"] = \"아파트\"\n",
        "매매대비전세_연립다세대_tidy[\"종류\"] = \"연립다세대\"\n",
        "매매대비전세_종합_tidy[\"종류\"] = \"종합\"\n",
        "#통일시킨 데이터를 가지고 tidy형태로 변형시켰다."
      ],
      "execution_count": 5,
      "outputs": []
    },
    {
      "cell_type": "code",
      "metadata": {
        "colab": {
          "base_uri": "https://localhost:8080/",
          "height": 0
        },
        "id": "vDT9JNd9RGR8",
        "outputId": "4a1b0a5d-968e-44d4-bdab-e51d88cfeee8"
      },
      "source": [
        "매매대비전세_종합_tidy"
      ],
      "execution_count": 6,
      "outputs": [
        {
          "output_type": "execute_result",
          "data": {
            "text/html": [
              "<div>\n",
              "<style scoped>\n",
              "    .dataframe tbody tr th:only-of-type {\n",
              "        vertical-align: middle;\n",
              "    }\n",
              "\n",
              "    .dataframe tbody tr th {\n",
              "        vertical-align: top;\n",
              "    }\n",
              "\n",
              "    .dataframe thead th {\n",
              "        text-align: right;\n",
              "    }\n",
              "</style>\n",
              "<table border=\"1\" class=\"dataframe\">\n",
              "  <thead>\n",
              "    <tr style=\"text-align: right;\">\n",
              "      <th></th>\n",
              "      <th>년월</th>\n",
              "      <th>지역</th>\n",
              "      <th>매매대비전세</th>\n",
              "      <th>종류</th>\n",
              "    </tr>\n",
              "  </thead>\n",
              "  <tbody>\n",
              "    <tr>\n",
              "      <th>0</th>\n",
              "      <td>2012년 01월</td>\n",
              "      <td>서울</td>\n",
              "      <td>52.9199</td>\n",
              "      <td>종합</td>\n",
              "    </tr>\n",
              "    <tr>\n",
              "      <th>1</th>\n",
              "      <td>2012년 02월</td>\n",
              "      <td>서울</td>\n",
              "      <td>53.0407</td>\n",
              "      <td>종합</td>\n",
              "    </tr>\n",
              "    <tr>\n",
              "      <th>2</th>\n",
              "      <td>2012년 03월</td>\n",
              "      <td>서울</td>\n",
              "      <td>53.1389</td>\n",
              "      <td>종합</td>\n",
              "    </tr>\n",
              "    <tr>\n",
              "      <th>3</th>\n",
              "      <td>2012년 04월</td>\n",
              "      <td>서울</td>\n",
              "      <td>53.198</td>\n",
              "      <td>종합</td>\n",
              "    </tr>\n",
              "    <tr>\n",
              "      <th>4</th>\n",
              "      <td>2012년 05월</td>\n",
              "      <td>서울</td>\n",
              "      <td>53.2595</td>\n",
              "      <td>종합</td>\n",
              "    </tr>\n",
              "    <tr>\n",
              "      <th>...</th>\n",
              "      <td>...</td>\n",
              "      <td>...</td>\n",
              "      <td>...</td>\n",
              "      <td>...</td>\n",
              "    </tr>\n",
              "    <tr>\n",
              "      <th>859</th>\n",
              "      <td>2020년 08월</td>\n",
              "      <td>동남권</td>\n",
              "      <td>55.772</td>\n",
              "      <td>종합</td>\n",
              "    </tr>\n",
              "    <tr>\n",
              "      <th>860</th>\n",
              "      <td>2020년 09월</td>\n",
              "      <td>동남권</td>\n",
              "      <td>55.9273</td>\n",
              "      <td>종합</td>\n",
              "    </tr>\n",
              "    <tr>\n",
              "      <th>861</th>\n",
              "      <td>2020년 10월</td>\n",
              "      <td>동남권</td>\n",
              "      <td>56.2656</td>\n",
              "      <td>종합</td>\n",
              "    </tr>\n",
              "    <tr>\n",
              "      <th>862</th>\n",
              "      <td>2020년 11월</td>\n",
              "      <td>동남권</td>\n",
              "      <td>56.6645</td>\n",
              "      <td>종합</td>\n",
              "    </tr>\n",
              "    <tr>\n",
              "      <th>863</th>\n",
              "      <td>2020년 12월</td>\n",
              "      <td>동남권</td>\n",
              "      <td>57.0346</td>\n",
              "      <td>종합</td>\n",
              "    </tr>\n",
              "  </tbody>\n",
              "</table>\n",
              "<p>864 rows × 4 columns</p>\n",
              "</div>"
            ],
            "text/plain": [
              "            년월   지역   매매대비전세  종류\n",
              "0    2012년 01월   서울  52.9199  종합\n",
              "1    2012년 02월   서울  53.0407  종합\n",
              "2    2012년 03월   서울  53.1389  종합\n",
              "3    2012년 04월   서울   53.198  종합\n",
              "4    2012년 05월   서울  53.2595  종합\n",
              "..         ...  ...      ...  ..\n",
              "859  2020년 08월  동남권   55.772  종합\n",
              "860  2020년 09월  동남권  55.9273  종합\n",
              "861  2020년 10월  동남권  56.2656  종합\n",
              "862  2020년 11월  동남권  56.6645  종합\n",
              "863  2020년 12월  동남권  57.0346  종합\n",
              "\n",
              "[864 rows x 4 columns]"
            ]
          },
          "metadata": {
            "tags": []
          },
          "execution_count": 6
        }
      ]
    },
    {
      "cell_type": "code",
      "metadata": {
        "colab": {
          "base_uri": "https://localhost:8080/",
          "height": 0
        },
        "id": "03v__jLoCbiL",
        "outputId": "86336c28-21df-49b1-976c-d46585b0ab3d"
      },
      "source": [
        "df1 = pd.concat([매매가격지수_종합_tidy,매매가격지수_아파트_tidy,매매가격지수_연립다세대_tidy,매매가격지수_단독_tidy]).sort_values(by=['년월',\"종류\"], axis=0)\n",
        "df1 = df1[['년월', '지역', '종류', '매매가격지수']]\n",
        "df1 = df1.reset_index().drop(\"index\",axis=1)\n",
        "\n",
        "df2 = pd.concat([매매대비전세_종합_tidy,매매대비전세_아파트_tidy,매매대비전세_연립다세대_tidy,매매대비전세_단독_tidy]).sort_values(by=['년월',\"종류\"], axis=0)\n",
        "df2 = df2[['년월', '지역', '종류', '매매대비전세']]\n",
        "df2 = df2.reset_index().drop(\"index\",axis=1)\n",
        "# 종류에 따른 분류가 필요한 데이터들을 모두 concat으로 처리했다.\n",
        "\n",
        "df3 = pd.merge(df1,df2)\n",
        "df3\n"
      ],
      "execution_count": 7,
      "outputs": [
        {
          "output_type": "execute_result",
          "data": {
            "text/html": [
              "<div>\n",
              "<style scoped>\n",
              "    .dataframe tbody tr th:only-of-type {\n",
              "        vertical-align: middle;\n",
              "    }\n",
              "\n",
              "    .dataframe tbody tr th {\n",
              "        vertical-align: top;\n",
              "    }\n",
              "\n",
              "    .dataframe thead th {\n",
              "        text-align: right;\n",
              "    }\n",
              "</style>\n",
              "<table border=\"1\" class=\"dataframe\">\n",
              "  <thead>\n",
              "    <tr style=\"text-align: right;\">\n",
              "      <th></th>\n",
              "      <th>년월</th>\n",
              "      <th>지역</th>\n",
              "      <th>종류</th>\n",
              "      <th>매매가격지수</th>\n",
              "      <th>매매대비전세</th>\n",
              "    </tr>\n",
              "  </thead>\n",
              "  <tbody>\n",
              "    <tr>\n",
              "      <th>0</th>\n",
              "      <td>2012년 01월</td>\n",
              "      <td>서울</td>\n",
              "      <td>단독</td>\n",
              "      <td>96.454</td>\n",
              "      <td>41.6014</td>\n",
              "    </tr>\n",
              "    <tr>\n",
              "      <th>1</th>\n",
              "      <td>2012년 01월</td>\n",
              "      <td>강북지역</td>\n",
              "      <td>단독</td>\n",
              "      <td>96.404</td>\n",
              "      <td>41.8163</td>\n",
              "    </tr>\n",
              "    <tr>\n",
              "      <th>2</th>\n",
              "      <td>2012년 01월</td>\n",
              "      <td>도심권</td>\n",
              "      <td>단독</td>\n",
              "      <td>94.96</td>\n",
              "      <td>37.6289</td>\n",
              "    </tr>\n",
              "    <tr>\n",
              "      <th>3</th>\n",
              "      <td>2012년 01월</td>\n",
              "      <td>동북권</td>\n",
              "      <td>단독</td>\n",
              "      <td>96.554</td>\n",
              "      <td>41.5802</td>\n",
              "    </tr>\n",
              "    <tr>\n",
              "      <th>4</th>\n",
              "      <td>2012년 01월</td>\n",
              "      <td>서북권</td>\n",
              "      <td>단독</td>\n",
              "      <td>96.967</td>\n",
              "      <td>45.082</td>\n",
              "    </tr>\n",
              "    <tr>\n",
              "      <th>...</th>\n",
              "      <td>...</td>\n",
              "      <td>...</td>\n",
              "      <td>...</td>\n",
              "      <td>...</td>\n",
              "      <td>...</td>\n",
              "    </tr>\n",
              "    <tr>\n",
              "      <th>3451</th>\n",
              "      <td>2020년 12월</td>\n",
              "      <td>동북권</td>\n",
              "      <td>종합</td>\n",
              "      <td>110.336</td>\n",
              "      <td>62.9605</td>\n",
              "    </tr>\n",
              "    <tr>\n",
              "      <th>3452</th>\n",
              "      <td>2020년 12월</td>\n",
              "      <td>서북권</td>\n",
              "      <td>종합</td>\n",
              "      <td>111.437</td>\n",
              "      <td>62.991</td>\n",
              "    </tr>\n",
              "    <tr>\n",
              "      <th>3453</th>\n",
              "      <td>2020년 12월</td>\n",
              "      <td>강남지역</td>\n",
              "      <td>종합</td>\n",
              "      <td>111.273</td>\n",
              "      <td>61.4538</td>\n",
              "    </tr>\n",
              "    <tr>\n",
              "      <th>3454</th>\n",
              "      <td>2020년 12월</td>\n",
              "      <td>서남권</td>\n",
              "      <td>종합</td>\n",
              "      <td>110.619</td>\n",
              "      <td>64.7898</td>\n",
              "    </tr>\n",
              "    <tr>\n",
              "      <th>3455</th>\n",
              "      <td>2020년 12월</td>\n",
              "      <td>동남권</td>\n",
              "      <td>종합</td>\n",
              "      <td>112.158</td>\n",
              "      <td>57.0346</td>\n",
              "    </tr>\n",
              "  </tbody>\n",
              "</table>\n",
              "<p>3456 rows × 5 columns</p>\n",
              "</div>"
            ],
            "text/plain": [
              "             년월    지역  종류   매매가격지수   매매대비전세\n",
              "0     2012년 01월    서울  단독   96.454  41.6014\n",
              "1     2012년 01월  강북지역  단독   96.404  41.8163\n",
              "2     2012년 01월   도심권  단독    94.96  37.6289\n",
              "3     2012년 01월   동북권  단독   96.554  41.5802\n",
              "4     2012년 01월   서북권  단독   96.967   45.082\n",
              "...         ...   ...  ..      ...      ...\n",
              "3451  2020년 12월   동북권  종합  110.336  62.9605\n",
              "3452  2020년 12월   서북권  종합  111.437   62.991\n",
              "3453  2020년 12월  강남지역  종합  111.273  61.4538\n",
              "3454  2020년 12월   서남권  종합  110.619  64.7898\n",
              "3455  2020년 12월   동남권  종합  112.158  57.0346\n",
              "\n",
              "[3456 rows x 5 columns]"
            ]
          },
          "metadata": {
            "tags": []
          },
          "execution_count": 7
        }
      ]
    },
    {
      "cell_type": "code",
      "metadata": {
        "id": "YVUtuEyxXjDi",
        "colab": {
          "base_uri": "https://localhost:8080/",
          "height": 0
        },
        "outputId": "b155e0e8-5a09-4c85-ebcc-4ba861ddd85d"
      },
      "source": [
        "#정기예금금리_t, 종합주가지수_t, 주택담보대출금리_t, 주택대출_t, 가계대출_t, 환율_t\n",
        "df4 = pd.merge(정기예금금리_t,종합주가지수_t,)\n",
        "df5 = pd.merge(주택담보대출금리_t,환율_t)\n",
        "df5[\"가계대출대비주택대출\"] = 주택대출_t[\"주택대출\"]/가계대출_t[\"가계대출\"]\n",
        "df6 = pd.merge(df4,df5)\n",
        "df7 = pd.merge(df6,환율_t)\n",
        "df7.iloc[0,5] = 128780/200857\n",
        "df8 = pd.merge(df3,df7)\n",
        "df8[\"년월\"] = pd.to_datetime(df8['년월'], format=\"%Y년 %m월\")\n",
        "df8\n",
        "#데이터를 모두 취합"
      ],
      "execution_count": 8,
      "outputs": [
        {
          "output_type": "execute_result",
          "data": {
            "text/html": [
              "<div>\n",
              "<style scoped>\n",
              "    .dataframe tbody tr th:only-of-type {\n",
              "        vertical-align: middle;\n",
              "    }\n",
              "\n",
              "    .dataframe tbody tr th {\n",
              "        vertical-align: top;\n",
              "    }\n",
              "\n",
              "    .dataframe thead th {\n",
              "        text-align: right;\n",
              "    }\n",
              "</style>\n",
              "<table border=\"1\" class=\"dataframe\">\n",
              "  <thead>\n",
              "    <tr style=\"text-align: right;\">\n",
              "      <th></th>\n",
              "      <th>년월</th>\n",
              "      <th>지역</th>\n",
              "      <th>종류</th>\n",
              "      <th>매매가격지수</th>\n",
              "      <th>매매대비전세</th>\n",
              "      <th>정기예금금리</th>\n",
              "      <th>종합주가지수</th>\n",
              "      <th>주택담보대출금리</th>\n",
              "      <th>환율</th>\n",
              "      <th>가계대출대비주택대출</th>\n",
              "    </tr>\n",
              "  </thead>\n",
              "  <tbody>\n",
              "    <tr>\n",
              "      <th>0</th>\n",
              "      <td>2012-01-01</td>\n",
              "      <td>서울</td>\n",
              "      <td>단독</td>\n",
              "      <td>96.454</td>\n",
              "      <td>41.6014</td>\n",
              "      <td>3.76</td>\n",
              "      <td>1891.01</td>\n",
              "      <td>5.06</td>\n",
              "      <td>1125</td>\n",
              "      <td>0.641153</td>\n",
              "    </tr>\n",
              "    <tr>\n",
              "      <th>1</th>\n",
              "      <td>2012-01-01</td>\n",
              "      <td>강북지역</td>\n",
              "      <td>단독</td>\n",
              "      <td>96.404</td>\n",
              "      <td>41.8163</td>\n",
              "      <td>3.76</td>\n",
              "      <td>1891.01</td>\n",
              "      <td>5.06</td>\n",
              "      <td>1125</td>\n",
              "      <td>0.641153</td>\n",
              "    </tr>\n",
              "    <tr>\n",
              "      <th>2</th>\n",
              "      <td>2012-01-01</td>\n",
              "      <td>도심권</td>\n",
              "      <td>단독</td>\n",
              "      <td>94.96</td>\n",
              "      <td>37.6289</td>\n",
              "      <td>3.76</td>\n",
              "      <td>1891.01</td>\n",
              "      <td>5.06</td>\n",
              "      <td>1125</td>\n",
              "      <td>0.641153</td>\n",
              "    </tr>\n",
              "    <tr>\n",
              "      <th>3</th>\n",
              "      <td>2012-01-01</td>\n",
              "      <td>동북권</td>\n",
              "      <td>단독</td>\n",
              "      <td>96.554</td>\n",
              "      <td>41.5802</td>\n",
              "      <td>3.76</td>\n",
              "      <td>1891.01</td>\n",
              "      <td>5.06</td>\n",
              "      <td>1125</td>\n",
              "      <td>0.641153</td>\n",
              "    </tr>\n",
              "    <tr>\n",
              "      <th>4</th>\n",
              "      <td>2012-01-01</td>\n",
              "      <td>서북권</td>\n",
              "      <td>단독</td>\n",
              "      <td>96.967</td>\n",
              "      <td>45.082</td>\n",
              "      <td>3.76</td>\n",
              "      <td>1891.01</td>\n",
              "      <td>5.06</td>\n",
              "      <td>1125</td>\n",
              "      <td>0.641153</td>\n",
              "    </tr>\n",
              "    <tr>\n",
              "      <th>...</th>\n",
              "      <td>...</td>\n",
              "      <td>...</td>\n",
              "      <td>...</td>\n",
              "      <td>...</td>\n",
              "      <td>...</td>\n",
              "      <td>...</td>\n",
              "      <td>...</td>\n",
              "      <td>...</td>\n",
              "      <td>...</td>\n",
              "      <td>...</td>\n",
              "    </tr>\n",
              "    <tr>\n",
              "      <th>3451</th>\n",
              "      <td>2020-12-01</td>\n",
              "      <td>동북권</td>\n",
              "      <td>종합</td>\n",
              "      <td>110.336</td>\n",
              "      <td>62.9605</td>\n",
              "      <td>0.89</td>\n",
              "      <td>2755.77</td>\n",
              "      <td>2.59</td>\n",
              "      <td>1088</td>\n",
              "      <td>0.588427</td>\n",
              "    </tr>\n",
              "    <tr>\n",
              "      <th>3452</th>\n",
              "      <td>2020-12-01</td>\n",
              "      <td>서북권</td>\n",
              "      <td>종합</td>\n",
              "      <td>111.437</td>\n",
              "      <td>62.991</td>\n",
              "      <td>0.89</td>\n",
              "      <td>2755.77</td>\n",
              "      <td>2.59</td>\n",
              "      <td>1088</td>\n",
              "      <td>0.588427</td>\n",
              "    </tr>\n",
              "    <tr>\n",
              "      <th>3453</th>\n",
              "      <td>2020-12-01</td>\n",
              "      <td>강남지역</td>\n",
              "      <td>종합</td>\n",
              "      <td>111.273</td>\n",
              "      <td>61.4538</td>\n",
              "      <td>0.89</td>\n",
              "      <td>2755.77</td>\n",
              "      <td>2.59</td>\n",
              "      <td>1088</td>\n",
              "      <td>0.588427</td>\n",
              "    </tr>\n",
              "    <tr>\n",
              "      <th>3454</th>\n",
              "      <td>2020-12-01</td>\n",
              "      <td>서남권</td>\n",
              "      <td>종합</td>\n",
              "      <td>110.619</td>\n",
              "      <td>64.7898</td>\n",
              "      <td>0.89</td>\n",
              "      <td>2755.77</td>\n",
              "      <td>2.59</td>\n",
              "      <td>1088</td>\n",
              "      <td>0.588427</td>\n",
              "    </tr>\n",
              "    <tr>\n",
              "      <th>3455</th>\n",
              "      <td>2020-12-01</td>\n",
              "      <td>동남권</td>\n",
              "      <td>종합</td>\n",
              "      <td>112.158</td>\n",
              "      <td>57.0346</td>\n",
              "      <td>0.89</td>\n",
              "      <td>2755.77</td>\n",
              "      <td>2.59</td>\n",
              "      <td>1088</td>\n",
              "      <td>0.588427</td>\n",
              "    </tr>\n",
              "  </tbody>\n",
              "</table>\n",
              "<p>3456 rows × 10 columns</p>\n",
              "</div>"
            ],
            "text/plain": [
              "             년월    지역  종류   매매가격지수  ...   종합주가지수 주택담보대출금리    환율 가계대출대비주택대출\n",
              "0    2012-01-01    서울  단독   96.454  ...  1891.01     5.06  1125   0.641153\n",
              "1    2012-01-01  강북지역  단독   96.404  ...  1891.01     5.06  1125   0.641153\n",
              "2    2012-01-01   도심권  단독    94.96  ...  1891.01     5.06  1125   0.641153\n",
              "3    2012-01-01   동북권  단독   96.554  ...  1891.01     5.06  1125   0.641153\n",
              "4    2012-01-01   서북권  단독   96.967  ...  1891.01     5.06  1125   0.641153\n",
              "...         ...   ...  ..      ...  ...      ...      ...   ...        ...\n",
              "3451 2020-12-01   동북권  종합  110.336  ...  2755.77     2.59  1088   0.588427\n",
              "3452 2020-12-01   서북권  종합  111.437  ...  2755.77     2.59  1088   0.588427\n",
              "3453 2020-12-01  강남지역  종합  111.273  ...  2755.77     2.59  1088   0.588427\n",
              "3454 2020-12-01   서남권  종합  110.619  ...  2755.77     2.59  1088   0.588427\n",
              "3455 2020-12-01   동남권  종합  112.158  ...  2755.77     2.59  1088   0.588427\n",
              "\n",
              "[3456 rows x 10 columns]"
            ]
          },
          "metadata": {
            "tags": []
          },
          "execution_count": 8
        }
      ]
    },
    {
      "cell_type": "markdown",
      "metadata": {
        "id": "dqIF3RFbXb2_"
      },
      "source": [
        "# 데이터를 저장, 필요한 데이터 처리하고, 새로운 파일을 받아 train과 test 데이터로 구분"
      ]
    },
    {
      "cell_type": "code",
      "metadata": {
        "id": "I_lXYitFiGbI"
      },
      "source": [
        "#df8.to_excel(excel_writer='raw_proj_df.xlsx')"
      ],
      "execution_count": 9,
      "outputs": []
    },
    {
      "cell_type": "code",
      "metadata": {
        "id": "H7t0D8EIpYQ1"
      },
      "source": [
        "df = pd.read_excel(\"/content/proj_df.xlsx\")\n",
        "sub_df = df.drop([\"Unnamed: 0\",'2년 뒤 매매가격지수', '2년간 금리', '2년간 금리.1','판단여부'],axis=1)\n",
        "df = df.drop([\"Unnamed: 0\",'2년 뒤 매매가격지수', '2년간 금리', '2년간 금리.1','손익분기점'],axis=1)"
      ],
      "execution_count": 10,
      "outputs": []
    },
    {
      "cell_type": "code",
      "metadata": {
        "id": "FUG9k0kaphAU"
      },
      "source": [
        "con1 = (df['년월'] < '2018-01-01')\n",
        "con2 = (df['년월'] >= '2019-01-01')\n",
        "con3 = ((df['년월'] < '2019-01-01') & (df['년월'] >= '2018-01-01'))\n",
        "\n",
        "train = df.loc[con1]\n",
        "test = df.loc[con2]\n",
        "val = df.loc[con3]\n",
        "\n",
        "target = '판단여부'\n",
        "features = train.columns.drop([target])\n",
        "\n",
        "X_train = train[features]\n",
        "y_train = train[target]\n",
        "X_val = val[features]\n",
        "y_val = val[target]\n",
        "X_test = test[features]\n",
        "\n",
        "X_train_encoded = pd.get_dummies(X_train).drop(\"년월\",axis=1)\n",
        "X_test_encoded = pd.get_dummies(X_test).drop(\"년월\",axis=1)\n",
        "X_val_encoded = pd.get_dummies(X_val).drop(\"년월\",axis=1)"
      ],
      "execution_count": 11,
      "outputs": []
    },
    {
      "cell_type": "markdown",
      "metadata": {
        "id": "IuKAHlS7c288"
      },
      "source": [
        "#발표를 위한 주석\n",
        "**해당 데이터를 선택한 이유** : 대략적인 부동산 투자 흐름에 대해서 파악하고 향후 부동산 시장의 흐름이 어떻게 바뀔지 예측하기 위해서 해당 데이터를 사용했습니다. 이 데이터를 가지고 서울의 어느 지역, 어느 지역, 어느 종류의 매물이 투자가지가 더 높은지 파악할 수 있다고 생각합니다.\n",
        "\n",
        "**target 특성을 선택한 이유** : target특성은 제가 만든 데이터로 해당 데이터는 2년 뒤의 매물의 가격과 현재 매물 가격의 차이와 해당 기간의 대출 금리를 통해 대출한 돈으로 매물을 구매하고 전세를 놓았을 때, 추가로 지출되는 이자와 지가의 변동을 파악하고 이를 해당 기간의 금리와 비교하여 더 수익이 높은지 판단하는 내용입니다. 2년 뒤의 데이터를 가지고 있을 때만 나올 수 있는 특성을 사용하여 2년 뒤의 내용이 없어도 판단할 수 있는 모델을 만들고자 하였습니다.\n",
        "\n",
        "**베이스라인 모델과 평가지표를 선택한 이유** : 베이스라인은 1, 즉 투자하는 것으로 선택했습니다. 타겟 특성의 최빈값이 1이기 때문입니다. 또한 평가지표는 recall값을 활용했습니다. 투자한 매물에 대한 투자가치가 중요하기 때문입니다.\n",
        "\n",
        "**만들고자 하는 모델의 한계, 데이터 누수, 장점, 목표** : 모델은 2년동안의 부동산 매물의 가격과 금리, 등의 데이터를 가지고 만들지만 실제로 2년 뒤의 상황을 알 수 없다는 한계가 있습니다. 이 모델이 가지고 있는 장점은 투자자의 시간을 단축시켜준다는 것에 있습니다. 보다 좋은 매물이 있는 지역과 시기를 추측하여 인력이 좀 더 효율적으로 쓰일 수 있도록 돕는 역할을 합니다. 이 모델의 목표는 현재 가지고 있는 정보를 토대로 2년 뒤 상황에 대해서 추측하는 것입니다."
      ]
    },
    {
      "cell_type": "markdown",
      "metadata": {
        "id": "V-lZ7ZbHX3xN"
      },
      "source": [
        "# CV처리단계"
      ]
    },
    {
      "cell_type": "code",
      "metadata": {
        "id": "frBd5qbWbmqK"
      },
      "source": [
        "#!pip install category_encoders"
      ],
      "execution_count": 12,
      "outputs": []
    },
    {
      "cell_type": "code",
      "metadata": {
        "id": "RCkQ4I3kX-Hk",
        "outputId": "00f60102-807a-4921-c110-ecef5a559843",
        "colab": {
          "base_uri": "https://localhost:8080/"
        }
      },
      "source": [
        "from category_encoders import OneHotEncoder\n",
        "from sklearn.model_selection import cross_val_score\n",
        "from sklearn.impute import SimpleImputer\n",
        "from sklearn.preprocessing import StandardScaler\n",
        "from sklearn.pipeline import make_pipeline\n",
        "from sklearn.ensemble import RandomForestClassifier\n",
        "from sklearn.ensemble import RandomForestRegressor\n",
        "from xgboost import XGBClassifier\n",
        "\n",
        "from scipy.stats import randint, uniform\n",
        "from sklearn.model_selection import RandomizedSearchCV\n",
        "\n",
        "from sklearn.metrics import mean_absolute_error\n",
        "from sklearn.model_selection import cross_val_score"
      ],
      "execution_count": 13,
      "outputs": [
        {
          "output_type": "stream",
          "text": [
            "/usr/local/lib/python3.7/dist-packages/statsmodels/tools/_testing.py:19: FutureWarning: pandas.util.testing is deprecated. Use the functions in the public API at pandas.testing instead.\n",
            "  import pandas.util.testing as tm\n"
          ],
          "name": "stderr"
        }
      ]
    },
    {
      "cell_type": "markdown",
      "metadata": {
        "id": "dgX-eVhyVRT1"
      },
      "source": [
        "## baseline score"
      ]
    },
    {
      "cell_type": "code",
      "metadata": {
        "id": "X-NpbUsMhZaM",
        "outputId": "5668c433-f59e-40f5-ffb0-c1b840eda89e",
        "colab": {
          "base_uri": "https://localhost:8080/"
        }
      },
      "source": [
        "print(y_train.value_counts(normalize=True), y_val.value_counts(normalize=True), sep=\"\\n\")"
      ],
      "execution_count": 14,
      "outputs": [
        {
          "output_type": "stream",
          "text": [
            "1.0    0.585938\n",
            "0.0    0.414062\n",
            "Name: 판단여부, dtype: float64\n",
            "1.0    0.804688\n",
            "0.0    0.195312\n",
            "Name: 판단여부, dtype: float64\n"
          ],
          "name": "stdout"
        }
      ]
    },
    {
      "cell_type": "code",
      "metadata": {
        "id": "K1Lw2xWNjX31",
        "outputId": "11638a33-bf56-4661-c11e-14b1df9591cd",
        "colab": {
          "base_uri": "https://localhost:8080/"
        }
      },
      "source": [
        "y_pred_train_base = [1]*len(y_train)\n",
        "y_pred_val_base = [1]*len(y_val)\n",
        "\n",
        "recall_train_base = 0.585938\n",
        "precision_train_base = 1\n",
        "recall_train_base, precision_train_base\n",
        "\n",
        "recall_val_base = 0.804688\n",
        "precision_val_base = 1\n",
        "recall_val_base, precision_val_base"
      ],
      "execution_count": 15,
      "outputs": [
        {
          "output_type": "execute_result",
          "data": {
            "text/plain": [
              "(0.804688, 1)"
            ]
          },
          "metadata": {
            "tags": []
          },
          "execution_count": 15
        }
      ]
    },
    {
      "cell_type": "markdown",
      "metadata": {
        "id": "EGzWsY_RVZ1c"
      },
      "source": [
        "##xgboosts 모델 score"
      ]
    },
    {
      "cell_type": "code",
      "metadata": {
        "id": "Tw9CTC4-zTqC"
      },
      "source": [
        "?????????????????????????????????????????????"
      ],
      "execution_count": null,
      "outputs": []
    },
    {
      "cell_type": "code",
      "metadata": {
        "id": "bgngoOrR_5vl",
        "outputId": "b5fcf42a-2f29-4229-de84-e722cb759f91",
        "colab": {
          "base_uri": "https://localhost:8080/"
        }
      },
      "source": [
        "print('최적 하이퍼파라미터: ', model_xgbc.best_params_)\n",
        "print('MAE: ', -model_xgbc.best_score_)"
      ],
      "execution_count": 17,
      "outputs": [
        {
          "output_type": "stream",
          "text": [
            "최적 하이퍼파라미터:  {'n_estimators': 200, 'max_depth': 12, 'learning_rate': 0.05}\n",
            "MAE:  0.24182684145996416\n"
          ],
          "name": "stdout"
        }
      ]
    },
    {
      "cell_type": "code",
      "metadata": {
        "id": "LD_9UeLpAEqz",
        "outputId": "fd2e1b3d-704c-4ef6-a8c2-54d283056703",
        "colab": {
          "base_uri": "https://localhost:8080/",
          "height": 193
        }
      },
      "source": [
        "best_model_xgbc = model_xgbc.best_estimator_\n",
        "y_pred_xgbc = best_model_xgbc.predict(X_val_encoded)\n",
        "mae = mean_absolute_error(y_val, y_pred_xgbc)\n",
        "print(f'테스트 MAE: {mae:,.7f}')\n",
        "\n",
        "temp1 = pd.DataFrame(y_val).reset_index().drop(\"index\",axis=1)\n",
        "temp2 = pd.DataFrame(y_pred_xgbc)\n",
        "temp = pd.concat([temp1,temp2],axis=1)\n",
        "temp3 = pd.DataFrame(temp.value_counts())\n",
        "temp3"
      ],
      "execution_count": 74,
      "outputs": [
        {
          "output_type": "stream",
          "text": [
            "테스트 MAE: 0.1145833\n"
          ],
          "name": "stdout"
        },
        {
          "output_type": "execute_result",
          "data": {
            "text/html": [
              "<div>\n",
              "<style scoped>\n",
              "    .dataframe tbody tr th:only-of-type {\n",
              "        vertical-align: middle;\n",
              "    }\n",
              "\n",
              "    .dataframe tbody tr th {\n",
              "        vertical-align: top;\n",
              "    }\n",
              "\n",
              "    .dataframe thead th {\n",
              "        text-align: right;\n",
              "    }\n",
              "</style>\n",
              "<table border=\"1\" class=\"dataframe\">\n",
              "  <thead>\n",
              "    <tr style=\"text-align: right;\">\n",
              "      <th></th>\n",
              "      <th></th>\n",
              "      <th>0</th>\n",
              "    </tr>\n",
              "    <tr>\n",
              "      <th>판단여부</th>\n",
              "      <th>0</th>\n",
              "      <th></th>\n",
              "    </tr>\n",
              "  </thead>\n",
              "  <tbody>\n",
              "    <tr>\n",
              "      <th>1.0</th>\n",
              "      <th>1.0</th>\n",
              "      <td>309</td>\n",
              "    </tr>\n",
              "    <tr>\n",
              "      <th rowspan=\"2\" valign=\"top\">0.0</th>\n",
              "      <th>1.0</th>\n",
              "      <td>44</td>\n",
              "    </tr>\n",
              "    <tr>\n",
              "      <th>0.0</th>\n",
              "      <td>31</td>\n",
              "    </tr>\n",
              "  </tbody>\n",
              "</table>\n",
              "</div>"
            ],
            "text/plain": [
              "            0\n",
              "판단여부 0       \n",
              "1.0  1.0  309\n",
              "0.0  1.0   44\n",
              "     0.0   31"
            ]
          },
          "metadata": {
            "tags": []
          },
          "execution_count": 74
        }
      ]
    },
    {
      "cell_type": "code",
      "metadata": {
        "id": "w7d7EbbQzTag",
        "outputId": "34dcf6ad-8bbf-4e42-f374-4ea240f2d993",
        "colab": {
          "base_uri": "https://localhost:8080/"
        }
      },
      "source": [
        "tp = temp3.loc[1].loc[1][0]\n",
        "fp = temp3.loc[1].loc[0][0]\n",
        "tn = temp3.loc[0].loc[0][0]\n",
        "try:\n",
        "  fn = temp3.loc[0].loc[1][0]\n",
        "except:\n",
        "  fn = 0\n",
        "recall_xgb = tp/(fp+tp)\n",
        "precision_xgb = tp/(fn+tp)\n",
        "recall_xgb, precision_xgb"
      ],
      "execution_count": 79,
      "outputs": [
        {
          "output_type": "execute_result",
          "data": {
            "text/plain": [
              "(0.8753541076487252, 1.0)"
            ]
          },
          "metadata": {
            "tags": []
          },
          "execution_count": 79
        }
      ]
    },
    {
      "cell_type": "code",
      "metadata": {
        "id": "XWkEk_eBEHQC",
        "outputId": "bdd9819c-f0dd-4473-9b27-aaff6ec3e64d",
        "colab": {
          "base_uri": "https://localhost:8080/",
          "height": 162
        }
      },
      "source": [
        "y_pred_xgbc = best_model_xgbc.predict(X_train_encoded)\n",
        "mae = mean_absolute_error(y_train, y_pred_xgbc)\n",
        "print(f'테스트 MAE: {mae:,.7f}')\n",
        "\n",
        "temp1 = pd.DataFrame(y_train).reset_index().drop(\"index\",axis=1)\n",
        "temp2 = pd.DataFrame(y_pred_xgbc)\n",
        "temp = pd.concat([temp1,temp2],axis=1)\n",
        "pd.DataFrame(temp.value_counts())"
      ],
      "execution_count": 20,
      "outputs": [
        {
          "output_type": "stream",
          "text": [
            "테스트 MAE: 0.0000000\n"
          ],
          "name": "stdout"
        },
        {
          "output_type": "execute_result",
          "data": {
            "text/html": [
              "<div>\n",
              "<style scoped>\n",
              "    .dataframe tbody tr th:only-of-type {\n",
              "        vertical-align: middle;\n",
              "    }\n",
              "\n",
              "    .dataframe tbody tr th {\n",
              "        vertical-align: top;\n",
              "    }\n",
              "\n",
              "    .dataframe thead th {\n",
              "        text-align: right;\n",
              "    }\n",
              "</style>\n",
              "<table border=\"1\" class=\"dataframe\">\n",
              "  <thead>\n",
              "    <tr style=\"text-align: right;\">\n",
              "      <th></th>\n",
              "      <th></th>\n",
              "      <th>0</th>\n",
              "    </tr>\n",
              "    <tr>\n",
              "      <th>판단여부</th>\n",
              "      <th>0</th>\n",
              "      <th></th>\n",
              "    </tr>\n",
              "  </thead>\n",
              "  <tbody>\n",
              "    <tr>\n",
              "      <th>1.0</th>\n",
              "      <th>1.0</th>\n",
              "      <td>1350</td>\n",
              "    </tr>\n",
              "    <tr>\n",
              "      <th>0.0</th>\n",
              "      <th>0.0</th>\n",
              "      <td>954</td>\n",
              "    </tr>\n",
              "  </tbody>\n",
              "</table>\n",
              "</div>"
            ],
            "text/plain": [
              "             0\n",
              "판단여부 0        \n",
              "1.0  1.0  1350\n",
              "0.0  0.0   954"
            ]
          },
          "metadata": {
            "tags": []
          },
          "execution_count": 20
        }
      ]
    },
    {
      "cell_type": "code",
      "metadata": {
        "id": "JMUp0lbEWgk7",
        "outputId": "7b2e6305-73c8-49db-add7-7d05171c553d",
        "colab": {
          "base_uri": "https://localhost:8080/"
        }
      },
      "source": [
        "scores_xgb = cross_val_score(best_model_xgbc, X_train_encoded, y_train, cv=10, scoring='recall')\n",
        "scores_xgb.mean(), scores_xgb.std()"
      ],
      "execution_count": 25,
      "outputs": [
        {
          "output_type": "execute_result",
          "data": {
            "text/plain": [
              "(0.8422222222222222, 0.283173278442975)"
            ]
          },
          "metadata": {
            "tags": []
          },
          "execution_count": 25
        }
      ]
    },
    {
      "cell_type": "markdown",
      "metadata": {
        "id": "hMW1aGbyV1Mg"
      },
      "source": [
        "##randomforesst 모델 score"
      ]
    },
    {
      "cell_type": "code",
      "metadata": {
        "colab": {
          "base_uri": "https://localhost:8080/"
        },
        "id": "3aLEeHqydDF5",
        "outputId": "50cf541d-e6d1-4648-e3a0-a83b897276a0"
      },
      "source": [
        "pipe = make_pipeline(\n",
        "    SimpleImputer(), \n",
        "    StandardScaler(),\n",
        "    RandomForestClassifier(random_state=42)\n",
        ")\n",
        "\n",
        "dists = {  \n",
        "    'simpleimputer__strategy': ['mean', 'median'], \n",
        "    'randomforestclassifier__n_estimators': randint(50, 300), \n",
        "    'randomforestclassifier__max_depth': [5, 10, 15, 20, 50], \n",
        "    'randomforestclassifier__max_features': uniform(0, 1)\n",
        "}\n",
        "\n",
        "model_rf = RandomizedSearchCV(\n",
        "    pipe, \n",
        "    param_distributions=dists, \n",
        "    n_iter=50, \n",
        "    cv=3, \n",
        "    scoring='neg_mean_absolute_error',  \n",
        "    verbose=1,\n",
        "    n_jobs=-1\n",
        ")\n",
        "\n",
        "model_rf.fit(X_train_encoded, y_train);"
      ],
      "execution_count": 22,
      "outputs": [
        {
          "output_type": "stream",
          "text": [
            "Fitting 3 folds for each of 50 candidates, totalling 150 fits\n"
          ],
          "name": "stdout"
        },
        {
          "output_type": "stream",
          "text": [
            "[Parallel(n_jobs=-1)]: Using backend LokyBackend with 2 concurrent workers.\n",
            "[Parallel(n_jobs=-1)]: Done  46 tasks      | elapsed:   16.0s\n",
            "[Parallel(n_jobs=-1)]: Done 150 out of 150 | elapsed:   48.4s finished\n"
          ],
          "name": "stderr"
        }
      ]
    },
    {
      "cell_type": "code",
      "metadata": {
        "colab": {
          "base_uri": "https://localhost:8080/"
        },
        "id": "HT9S_4RDkaQ6",
        "outputId": "a4c4e160-80f9-436f-a51a-003cb3e41254"
      },
      "source": [
        "print('최적 하이퍼파라미터: ', model_rf.best_params_)\n",
        "print('MAE: ', -model_rf.best_score_)"
      ],
      "execution_count": 23,
      "outputs": [
        {
          "output_type": "stream",
          "text": [
            "최적 하이퍼파라미터:  {'randomforestclassifier__max_depth': 10, 'randomforestclassifier__max_features': 0.0836486992812081, 'randomforestclassifier__n_estimators': 170, 'simpleimputer__strategy': 'mean'}\n",
            "MAE:  0.3025173611111111\n"
          ],
          "name": "stdout"
        }
      ]
    },
    {
      "cell_type": "code",
      "metadata": {
        "colab": {
          "base_uri": "https://localhost:8080/",
          "height": 193
        },
        "id": "puHoSGnMujwE",
        "outputId": "9d60a333-6004-4c7f-98fc-56335da1a435"
      },
      "source": [
        "best_model_rf = model_rf.best_estimator_\n",
        "y_pred_rf = best_model_rf.predict(X_val_encoded)\n",
        "mae = mean_absolute_error(y_val, y_pred_rf)\n",
        "print(f'테스트 MAE: {mae:,.7f}')\n",
        "\n",
        "temp1 = pd.DataFrame(y_val).reset_index().drop(\"index\",axis=1)\n",
        "temp2 = pd.DataFrame(y_pred_rf)\n",
        "temp = pd.concat([temp1,temp2],axis=1)\n",
        "temp3 = pd.DataFrame(temp.value_counts())\n",
        "temp3"
      ],
      "execution_count": 81,
      "outputs": [
        {
          "output_type": "stream",
          "text": [
            "테스트 MAE: 0.1614583\n"
          ],
          "name": "stdout"
        },
        {
          "output_type": "execute_result",
          "data": {
            "text/html": [
              "<div>\n",
              "<style scoped>\n",
              "    .dataframe tbody tr th:only-of-type {\n",
              "        vertical-align: middle;\n",
              "    }\n",
              "\n",
              "    .dataframe tbody tr th {\n",
              "        vertical-align: top;\n",
              "    }\n",
              "\n",
              "    .dataframe thead th {\n",
              "        text-align: right;\n",
              "    }\n",
              "</style>\n",
              "<table border=\"1\" class=\"dataframe\">\n",
              "  <thead>\n",
              "    <tr style=\"text-align: right;\">\n",
              "      <th></th>\n",
              "      <th></th>\n",
              "      <th>0</th>\n",
              "    </tr>\n",
              "    <tr>\n",
              "      <th>판단여부</th>\n",
              "      <th>0</th>\n",
              "      <th></th>\n",
              "    </tr>\n",
              "  </thead>\n",
              "  <tbody>\n",
              "    <tr>\n",
              "      <th>1.0</th>\n",
              "      <th>1.0</th>\n",
              "      <td>309</td>\n",
              "    </tr>\n",
              "    <tr>\n",
              "      <th rowspan=\"2\" valign=\"top\">0.0</th>\n",
              "      <th>1.0</th>\n",
              "      <td>62</td>\n",
              "    </tr>\n",
              "    <tr>\n",
              "      <th>0.0</th>\n",
              "      <td>13</td>\n",
              "    </tr>\n",
              "  </tbody>\n",
              "</table>\n",
              "</div>"
            ],
            "text/plain": [
              "            0\n",
              "판단여부 0       \n",
              "1.0  1.0  309\n",
              "0.0  1.0   62\n",
              "     0.0   13"
            ]
          },
          "metadata": {
            "tags": []
          },
          "execution_count": 81
        }
      ]
    },
    {
      "cell_type": "code",
      "metadata": {
        "colab": {
          "base_uri": "https://localhost:8080/"
        },
        "id": "BbN4-sdn0Y4D",
        "outputId": "e741b6cc-90ec-4263-8d60-7777273c5e7f"
      },
      "source": [
        "tp = temp3.loc[1].loc[1][0]\n",
        "fp = temp3.loc[1].loc[0][0]\n",
        "tn = temp3.loc[0].loc[0][0]\n",
        "try:\n",
        "  fn = temp3.loc[0].loc[1][0]\n",
        "except:\n",
        "  fn = 0\n",
        "recall_rf = tp/(fp+tp)\n",
        "precision_rf = tp/(fn+tp)\n",
        "recall_rf, precision_rf"
      ],
      "execution_count": 82,
      "outputs": [
        {
          "output_type": "execute_result",
          "data": {
            "text/plain": [
              "(0.8328840970350404, 1.0)"
            ]
          },
          "metadata": {
            "tags": []
          },
          "execution_count": 82
        }
      ]
    },
    {
      "cell_type": "code",
      "metadata": {
        "id": "r6UIBpfJES5m",
        "outputId": "78e7db41-8b41-4907-e449-d7edc8e6547f",
        "colab": {
          "base_uri": "https://localhost:8080/",
          "height": 193
        }
      },
      "source": [
        "y_pred_rf = best_model_rf.predict(X_train_encoded)\n",
        "mae = mean_absolute_error(y_train, y_pred_rf)\n",
        "print(f'테스트 MAE: {mae:,.7f}')\n",
        "\n",
        "temp1 = pd.DataFrame(y_train).reset_index().drop(\"index\",axis=1)\n",
        "temp2 = pd.DataFrame(y_pred_rf)\n",
        "temp = pd.concat([temp1,temp2],axis=1)\n",
        "pd.DataFrame(temp.value_counts())"
      ],
      "execution_count": 76,
      "outputs": [
        {
          "output_type": "stream",
          "text": [
            "테스트 MAE: 0.0060764\n"
          ],
          "name": "stdout"
        },
        {
          "output_type": "execute_result",
          "data": {
            "text/html": [
              "<div>\n",
              "<style scoped>\n",
              "    .dataframe tbody tr th:only-of-type {\n",
              "        vertical-align: middle;\n",
              "    }\n",
              "\n",
              "    .dataframe tbody tr th {\n",
              "        vertical-align: top;\n",
              "    }\n",
              "\n",
              "    .dataframe thead th {\n",
              "        text-align: right;\n",
              "    }\n",
              "</style>\n",
              "<table border=\"1\" class=\"dataframe\">\n",
              "  <thead>\n",
              "    <tr style=\"text-align: right;\">\n",
              "      <th></th>\n",
              "      <th></th>\n",
              "      <th>0</th>\n",
              "    </tr>\n",
              "    <tr>\n",
              "      <th>판단여부</th>\n",
              "      <th>0</th>\n",
              "      <th></th>\n",
              "    </tr>\n",
              "  </thead>\n",
              "  <tbody>\n",
              "    <tr>\n",
              "      <th>1.0</th>\n",
              "      <th>1.0</th>\n",
              "      <td>1350</td>\n",
              "    </tr>\n",
              "    <tr>\n",
              "      <th rowspan=\"2\" valign=\"top\">0.0</th>\n",
              "      <th>0.0</th>\n",
              "      <td>940</td>\n",
              "    </tr>\n",
              "    <tr>\n",
              "      <th>1.0</th>\n",
              "      <td>14</td>\n",
              "    </tr>\n",
              "  </tbody>\n",
              "</table>\n",
              "</div>"
            ],
            "text/plain": [
              "             0\n",
              "판단여부 0        \n",
              "1.0  1.0  1350\n",
              "0.0  0.0   940\n",
              "     1.0    14"
            ]
          },
          "metadata": {
            "tags": []
          },
          "execution_count": 76
        }
      ]
    },
    {
      "cell_type": "code",
      "metadata": {
        "id": "FzN09lBiXGG4",
        "outputId": "1724be4c-fc97-41b8-d78a-36e431882960",
        "colab": {
          "base_uri": "https://localhost:8080/"
        }
      },
      "source": [
        "scores_rf = cross_val_score(best_model_rf, X_train_encoded, y_train, cv=10, scoring='recall')\n",
        "scores_rf.mean(), scores_rf.std()"
      ],
      "execution_count": 77,
      "outputs": [
        {
          "output_type": "execute_result",
          "data": {
            "text/plain": [
              "(0.8777777777777779, 0.28142787013822024)"
            ]
          },
          "metadata": {
            "tags": []
          },
          "execution_count": 77
        }
      ]
    },
    {
      "cell_type": "code",
      "metadata": {
        "id": "KPAz6QI_6dKt",
        "outputId": "d1f030c9-c867-48d6-c345-00efac488772",
        "colab": {
          "base_uri": "https://localhost:8080/"
        }
      },
      "source": [
        "recall_rf, recall_xgb, scores_rf.mean(), scores_xgb.mean()"
      ],
      "execution_count": 84,
      "outputs": [
        {
          "output_type": "execute_result",
          "data": {
            "text/plain": [
              "(0.8328840970350404,\n",
              " 0.8753541076487252,\n",
              " 0.8777777777777779,\n",
              " 0.8422222222222222)"
            ]
          },
          "metadata": {
            "tags": []
          },
          "execution_count": 84
        }
      ]
    },
    {
      "cell_type": "markdown",
      "metadata": {
        "id": "nRUUETPyrrML"
      },
      "source": [
        "#발표를 위한 주석\n",
        "**val_평가지표** : 베이스라인에서 계산한 recall값은 0.804688이고 생성한 모델에서 나온 recall값은 XGBClassifier : 0.8753541076487252이고, RandomForestClassifier : 0.8328840970350404이므로 기존의 베이스라인 모델보다 더 향상된 정확도를 가진다.\n",
        "\n",
        "**교차 검증** : 교차 검증 결과로 recall값은 RandomForestClassifier : 0.8777777777777779이고, XGBClassifier : 0.8422222222222222이므로 RandomForestClassifier가 XGBClassifier보다 더 높은 정확도를 가진다고 볼 수 있다.(val_평가지표와 반대되는 상황 : RandomForestClassifier가 과적합일 가능성이 크다.)"
      ]
    },
    {
      "cell_type": "markdown",
      "metadata": {
        "id": "wB70DoNK4evf"
      },
      "source": [
        "주어진 모델을 가지고 2019~2020년의 투자가치 있는 부동산 추정"
      ]
    },
    {
      "cell_type": "code",
      "metadata": {
        "colab": {
          "base_uri": "https://localhost:8080/",
          "height": 457
        },
        "id": "YFb11V9p4d5T",
        "outputId": "810945cb-9100-42b3-f726-f5325c20edc5"
      },
      "source": [
        "y_pred_rf_df = pd.DataFrame(y_pred_rf, columns=[\"판단여부\"])\n",
        "check_rf = pd.concat([test[[\"년월\",\"지역\",\"종류\"]].reset_index().drop([\"index\"],axis=1),y_pred_rf_df],axis=1)\n",
        "check_rf[check_rf[\"판단여부\"]==0.0]"
      ],
      "execution_count": 85,
      "outputs": [
        {
          "output_type": "execute_result",
          "data": {
            "text/html": [
              "<div>\n",
              "<style scoped>\n",
              "    .dataframe tbody tr th:only-of-type {\n",
              "        vertical-align: middle;\n",
              "    }\n",
              "\n",
              "    .dataframe tbody tr th {\n",
              "        vertical-align: top;\n",
              "    }\n",
              "\n",
              "    .dataframe thead th {\n",
              "        text-align: right;\n",
              "    }\n",
              "</style>\n",
              "<table border=\"1\" class=\"dataframe\">\n",
              "  <thead>\n",
              "    <tr style=\"text-align: right;\">\n",
              "      <th></th>\n",
              "      <th>년월</th>\n",
              "      <th>지역</th>\n",
              "      <th>종류</th>\n",
              "      <th>판단여부</th>\n",
              "    </tr>\n",
              "  </thead>\n",
              "  <tbody>\n",
              "    <tr>\n",
              "      <th>21</th>\n",
              "      <td>2019-01-01</td>\n",
              "      <td>강남지역</td>\n",
              "      <td>연립다세대</td>\n",
              "      <td>0.0</td>\n",
              "    </tr>\n",
              "    <tr>\n",
              "      <th>22</th>\n",
              "      <td>2019-01-01</td>\n",
              "      <td>서남권</td>\n",
              "      <td>연립다세대</td>\n",
              "      <td>0.0</td>\n",
              "    </tr>\n",
              "    <tr>\n",
              "      <th>53</th>\n",
              "      <td>2019-02-01</td>\n",
              "      <td>강남지역</td>\n",
              "      <td>연립다세대</td>\n",
              "      <td>0.0</td>\n",
              "    </tr>\n",
              "    <tr>\n",
              "      <th>54</th>\n",
              "      <td>2019-02-01</td>\n",
              "      <td>서남권</td>\n",
              "      <td>연립다세대</td>\n",
              "      <td>0.0</td>\n",
              "    </tr>\n",
              "    <tr>\n",
              "      <th>85</th>\n",
              "      <td>2019-03-01</td>\n",
              "      <td>강남지역</td>\n",
              "      <td>연립다세대</td>\n",
              "      <td>0.0</td>\n",
              "    </tr>\n",
              "    <tr>\n",
              "      <th>86</th>\n",
              "      <td>2019-03-01</td>\n",
              "      <td>서남권</td>\n",
              "      <td>연립다세대</td>\n",
              "      <td>0.0</td>\n",
              "    </tr>\n",
              "    <tr>\n",
              "      <th>117</th>\n",
              "      <td>2019-04-01</td>\n",
              "      <td>강남지역</td>\n",
              "      <td>연립다세대</td>\n",
              "      <td>0.0</td>\n",
              "    </tr>\n",
              "    <tr>\n",
              "      <th>118</th>\n",
              "      <td>2019-04-01</td>\n",
              "      <td>서남권</td>\n",
              "      <td>연립다세대</td>\n",
              "      <td>0.0</td>\n",
              "    </tr>\n",
              "    <tr>\n",
              "      <th>149</th>\n",
              "      <td>2019-05-01</td>\n",
              "      <td>강남지역</td>\n",
              "      <td>연립다세대</td>\n",
              "      <td>0.0</td>\n",
              "    </tr>\n",
              "    <tr>\n",
              "      <th>150</th>\n",
              "      <td>2019-05-01</td>\n",
              "      <td>서남권</td>\n",
              "      <td>연립다세대</td>\n",
              "      <td>0.0</td>\n",
              "    </tr>\n",
              "    <tr>\n",
              "      <th>181</th>\n",
              "      <td>2019-06-01</td>\n",
              "      <td>강남지역</td>\n",
              "      <td>연립다세대</td>\n",
              "      <td>0.0</td>\n",
              "    </tr>\n",
              "    <tr>\n",
              "      <th>182</th>\n",
              "      <td>2019-06-01</td>\n",
              "      <td>서남권</td>\n",
              "      <td>연립다세대</td>\n",
              "      <td>0.0</td>\n",
              "    </tr>\n",
              "    <tr>\n",
              "      <th>245</th>\n",
              "      <td>2019-08-01</td>\n",
              "      <td>강남지역</td>\n",
              "      <td>연립다세대</td>\n",
              "      <td>0.0</td>\n",
              "    </tr>\n",
              "  </tbody>\n",
              "</table>\n",
              "</div>"
            ],
            "text/plain": [
              "            년월    지역     종류  판단여부\n",
              "21  2019-01-01  강남지역  연립다세대   0.0\n",
              "22  2019-01-01   서남권  연립다세대   0.0\n",
              "53  2019-02-01  강남지역  연립다세대   0.0\n",
              "54  2019-02-01   서남권  연립다세대   0.0\n",
              "85  2019-03-01  강남지역  연립다세대   0.0\n",
              "86  2019-03-01   서남권  연립다세대   0.0\n",
              "117 2019-04-01  강남지역  연립다세대   0.0\n",
              "118 2019-04-01   서남권  연립다세대   0.0\n",
              "149 2019-05-01  강남지역  연립다세대   0.0\n",
              "150 2019-05-01   서남권  연립다세대   0.0\n",
              "181 2019-06-01  강남지역  연립다세대   0.0\n",
              "182 2019-06-01   서남권  연립다세대   0.0\n",
              "245 2019-08-01  강남지역  연립다세대   0.0"
            ]
          },
          "metadata": {
            "tags": []
          },
          "execution_count": 85
        }
      ]
    },
    {
      "cell_type": "markdown",
      "metadata": {
        "id": "_j587U-L6ibD"
      },
      "source": [
        "추정결과 연립다세대주택을 제외한 모든 부동산은 이득이다."
      ]
    },
    {
      "cell_type": "markdown",
      "metadata": {
        "id": "3ahMvjMZsHYm"
      },
      "source": [
        "모델을 학습한 후에 베이스라인보다 잘 나왔나요? 그렇지 않다면 그 이유는 무엇일까요?()\n",
        "모델 성능 개선을 위해 어떤 방법을 적용했나요? 그 방법을 선택한 이유는 무엇인가요?()\n",
        "최종 모델에 관해 설명하세요.()"
      ]
    },
    {
      "cell_type": "markdown",
      "metadata": {
        "id": "MRAAYf4m7fXb"
      },
      "source": [
        "# 추가로 투자하는 부동산 중 어느 지역, 어떤 매물이 더 유리한지 조사해 보았다."
      ]
    },
    {
      "cell_type": "code",
      "metadata": {
        "id": "4LDaBhwY7Kr4"
      },
      "source": [
        "con1 = (sub_df['년월'] < '2018-01-01')\n",
        "con2 = (sub_df['년월'] >= '2019-01-01')\n",
        "con3 = ((sub_df['년월'] < '2019-01-01') & (sub_df['년월'] >= '2018-01-01'))\n",
        "\n",
        "train = sub_df.loc[con1]\n",
        "test = sub_df.loc[con2]\n",
        "val = sub_df.loc[con3]\n",
        "\n",
        "target = '손익분기점'\n",
        "features = train.columns.drop([target])\n",
        "\n",
        "X_train = train[features]\n",
        "y_train = train[target]\n",
        "X_val = val[features]\n",
        "y_val = val[target]\n",
        "X_test = test[features]\n",
        "\n",
        "X_train_encoded = pd.get_dummies(X_train).drop(\"년월\",axis=1)\n",
        "X_test_encoded = pd.get_dummies(X_test).drop(\"년월\",axis=1)\n",
        "X_val_encoded = pd.get_dummies(X_val).drop(\"년월\",axis=1)"
      ],
      "execution_count": 86,
      "outputs": []
    },
    {
      "cell_type": "code",
      "metadata": {
        "colab": {
          "base_uri": "https://localhost:8080/"
        },
        "id": "dg8LtTe68Sku",
        "outputId": "f4a2ba50-d6aa-45a0-c8a6-1b01decf6d68"
      },
      "source": [
        "pipe = make_pipeline(\n",
        "    SimpleImputer(), \n",
        "    StandardScaler(),\n",
        "    RandomForestRegressor(random_state=42)\n",
        ")\n",
        "\n",
        "dists = {  \n",
        "    'simpleimputer__strategy': ['mean', 'median'], \n",
        "    'randomforestregressor__n_estimators': randint(50, 300), \n",
        "    'randomforestregressor__max_depth': [5, 10, 15, 20, 50], \n",
        "    'randomforestregressor__max_features': uniform(0, 1)\n",
        "}\n",
        "\n",
        "model = RandomizedSearchCV(\n",
        "    pipe, \n",
        "    param_distributions=dists, \n",
        "    n_iter=50, \n",
        "    cv=3, \n",
        "    scoring='neg_mean_absolute_error',  \n",
        "    verbose=1,\n",
        "    n_jobs=-1\n",
        ")\n",
        "\n",
        "model.fit(X_train_encoded, y_train);"
      ],
      "execution_count": 87,
      "outputs": [
        {
          "output_type": "stream",
          "text": [
            "Fitting 3 folds for each of 50 candidates, totalling 150 fits\n"
          ],
          "name": "stdout"
        },
        {
          "output_type": "stream",
          "text": [
            "[Parallel(n_jobs=-1)]: Using backend LokyBackend with 2 concurrent workers.\n",
            "[Parallel(n_jobs=-1)]: Done  46 tasks      | elapsed:   23.9s\n",
            "[Parallel(n_jobs=-1)]: Done 150 out of 150 | elapsed:  1.2min finished\n"
          ],
          "name": "stderr"
        }
      ]
    },
    {
      "cell_type": "code",
      "metadata": {
        "id": "a-h-fFyc8ela"
      },
      "source": [
        "print('최적 하이퍼파라미터: ', model.best_params_)\n",
        "print('MAE: ', -model.best_score_)"
      ],
      "execution_count": null,
      "outputs": []
    },
    {
      "cell_type": "code",
      "metadata": {
        "id": "1lqxGCVb8iAk"
      },
      "source": [
        "best_model = model.best_estimator_\n",
        "y_pred = best_model.predict(X_val_encoded)\n",
        "mae = mean_absolute_error(y_val, y_pred)\n",
        "print(f'테스트 MAE: {mae:,.7f}')"
      ],
      "execution_count": null,
      "outputs": []
    },
    {
      "cell_type": "code",
      "metadata": {
        "id": "04lEMjGu8lnC"
      },
      "source": [
        "temp1 = pd.DataFrame(y_val).reset_index().drop(\"index\",axis=1)\n",
        "temp2 = pd.DataFrame(y_pred)\n",
        "temp = pd.concat([temp1,temp2],axis=1)\n",
        "temp"
      ],
      "execution_count": null,
      "outputs": []
    },
    {
      "cell_type": "code",
      "metadata": {
        "id": "H_XJkAKa8qAZ"
      },
      "source": [
        "y_pred = best_model.predict(X_test_encoded)\n",
        "y_pred = pd.DataFrame(y_pred, columns=[\"손익분기점\"])\n",
        "index_test = pd.concat([test[[\"년월\",\"지역\",\"종류\"]].reset_index().drop([\"index\"],axis=1),y_pred],axis=1)\n",
        "index_test[index_test[\"손익분기점\"]>=0.07]"
      ],
      "execution_count": null,
      "outputs": []
    },
    {
      "cell_type": "code",
      "metadata": {
        "id": "CehR_B7m9TcZ"
      },
      "source": [
        "index_test.sort_values(\"손익분기점\").tail(50)"
      ],
      "execution_count": null,
      "outputs": []
    },
    {
      "cell_type": "markdown",
      "metadata": {
        "id": "eEbznleH9k7k"
      },
      "source": [
        "투자가치가 높은 매물은 아파트로 결론이 나왔으며 지역으로는 동남권, 강남지역, 서남권 순으로 나왔다."
      ]
    },
    {
      "cell_type": "code",
      "metadata": {
        "id": "EFfYlHuF9zhJ"
      },
      "source": [
        "index_test.sort_values(\"손익분기점\").head(50)"
      ],
      "execution_count": null,
      "outputs": []
    },
    {
      "cell_type": "markdown",
      "metadata": {
        "id": "hfSjcXsY-FLf"
      },
      "source": [
        "앞에서 나왔던 결론과 마찬가지로 연립다세대 주택은 모든 지역에서 투자가치가 낮은 매물이라는 결론이 나왔다."
      ]
    }
  ]
}